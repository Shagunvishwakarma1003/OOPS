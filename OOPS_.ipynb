{
  "nbformat": 4,
  "nbformat_minor": 0,
  "metadata": {
    "colab": {
      "provenance": []
    },
    "kernelspec": {
      "name": "python3",
      "display_name": "Python 3"
    },
    "language_info": {
      "name": "python"
    }
  },
  "cells": [
    {
      "cell_type": "markdown",
      "source": [
        "**THEORETICAL QUESTIONS:**"
      ],
      "metadata": {
        "id": "8owBKvXZz36l"
      }
    },
    {
      "cell_type": "markdown",
      "source": [
        "**Q1. What is Object-Oriented Programming (OOP)?**\n",
        "  --> OOP is a programming paradigm where real-world entities are represented\n",
        "  as objects containing data (attributes) and behavior (methods)."
      ],
      "metadata": {
        "id": "oEaOkO2Fnogb"
      }
    },
    {
      "cell_type": "markdown",
      "source": [
        "**Q2. What is a class in OOP?**\n",
        "  --> A class is a blueprint or template used to create objects."
      ],
      "metadata": {
        "id": "RgWTXgzeoGFt"
      }
    },
    {
      "cell_type": "markdown",
      "source": [
        "**Q3. What is an object in OOP?**\n",
        "  --> An object is an instance of a class that represents a real-world entity."
      ],
      "metadata": {
        "id": "PUbHZ2ZQomXa"
      }
    },
    {
      "cell_type": "markdown",
      "source": [
        "**Q4. What is the difference between abstraction and encapsulation?**\n",
        "  -->\n",
        "  * Abstraction: Hiding implementation details and showing only essential\n",
        "  features.\n",
        "  * Encapsulation: Binding data and methods together and controlling access."
      ],
      "metadata": {
        "id": "rIXqcvrHo8Q6"
      }
    },
    {
      "cell_type": "markdown",
      "source": [
        "**Q5. What are dunder methods in Python?**\n",
        "  --> Special methods in Python written with double underscores\n",
        "   (example, __init__, __str__) that are automatically invoked by Python."
      ],
      "metadata": {
        "id": "pNCQLJ0OsGcD"
      }
    },
    {
      "cell_type": "markdown",
      "source": [
        "**Q6. Explain the concept of inheritance in OOP.**\n",
        "  --> Inheritance allows one class (child) to acquire properties and methods of another class (parent)."
      ],
      "metadata": {
        "id": "v_Jg-Mj0srAf"
      }
    },
    {
      "cell_type": "markdown",
      "source": [
        "**Q7. What is polymorphism in OOP?**\n",
        "  --> Polymorphism means \"many forms\" where the same function or operator works differently depending on the object."
      ],
      "metadata": {
        "id": "8On4HBnps40y"
      }
    },
    {
      "cell_type": "markdown",
      "source": [
        "**Q8. How is encapsulation achieved in Python?**\n",
        "  --> Encapsulation is achieved using access modifiers: public, protected (_var), and private (__var)."
      ],
      "metadata": {
        "id": "XrrSa-IytOwf"
      }
    },
    {
      "cell_type": "markdown",
      "source": [
        "**Q9. What is a constructor in Python?**\n",
        "  --> The __init__ method is a constructor that is automatically called when an object is created."
      ],
      "metadata": {
        "id": "FZf5WvXktP9_"
      }
    },
    {
      "cell_type": "markdown",
      "source": [
        "**Q10. What are class and static methods in Python?**\n",
        "  -->\n",
        "  * Class Method: Declared with @classmethod, takes cls as the first parameter\n",
        "  \n",
        "  * Static Method: Declared with @staticmethod, does not take cls or self"
      ],
      "metadata": {
        "id": "srxW4x2AtQQg"
      }
    },
    {
      "cell_type": "markdown",
      "source": [
        "**Q11. What is method overloading in Python?**\n",
        "  -->  Python does not support true method overloading, but it can be simulated using default or variable arguments."
      ],
      "metadata": {
        "id": "QBera9NPtQaQ"
      }
    },
    {
      "cell_type": "markdown",
      "source": [
        "**Q12. What is method overriding in OOP?**\n",
        "  --> Method overriding occurs when a child class redefines a method of its parent class with the same name."
      ],
      "metadata": {
        "id": "7U8gwGhitQiB"
      }
    },
    {
      "cell_type": "markdown",
      "source": [
        "**Q13. What is a property decorator in Python?**\n",
        "  --> @property allows a method to be accessed like an attribute."
      ],
      "metadata": {
        "id": "izt4FTfHtQp_"
      }
    },
    {
      "cell_type": "markdown",
      "source": [
        "**Q14. Why is polymorphism important in OOP?**\n",
        "  --> It increases flexibility and reusability by allowing the same interface to be used for different types of objects."
      ],
      "metadata": {
        "id": "dI1qPDe_tQyK"
      }
    },
    {
      "cell_type": "markdown",
      "source": [
        "**Q15. What is an abstract class in Python?**\n",
        "  --> A class that cannot be instantiated directly and may contain abstract methods. Defined using the abc module."
      ],
      "metadata": {
        "id": "ysaRlGUAtRDI"
      }
    },
    {
      "cell_type": "markdown",
      "source": [
        "**Q16. What are the advantages of OOP?**\n",
        "  -->\n",
        "  Modularity\n",
        "  Reusability\n",
        "  Data hiding\n",
        "  Easier maintenance\n",
        "  Real-world modeling"
      ],
      "metadata": {
        "id": "6pqtiVbmtRSK"
      }
    },
    {
      "cell_type": "markdown",
      "source": [
        "**Q17. What is the difference between a class variable and an instance variable?**\n",
        "  -->\n",
        "   * Class Variable: Shared by all objects of the class.\n",
        "   \n",
        "   * Instance Variable: Unique for each object."
      ],
      "metadata": {
        "id": "djyc05qdtRdQ"
      }
    },
    {
      "cell_type": "markdown",
      "source": [
        "**Q18. What is multiple inheritance in Python?**\n",
        "  --> When a class inherits from more than one parent class."
      ],
      "metadata": {
        "id": "R8f86352us5Y"
      }
    },
    {
      "cell_type": "markdown",
      "source": [
        "**Q19. Explain the purpose of ‘’__str__’ and ‘__repr__’ ‘ methods in Python.**\n",
        "  -->\n",
        "  *  __str__: Returns a user-friendly string representation.\n",
        "  \n",
        "  *  __repr__: Returns a developer-friendly string for debugging."
      ],
      "metadata": {
        "id": "946Cb0fputan"
      }
    },
    {
      "cell_type": "markdown",
      "source": [
        "**Q20. What is the significance of the ‘super()’ function in Python?**\n",
        "  --> Used to call methods of the parent class from the child class."
      ],
      "metadata": {
        "id": "L3aexjbhutj4"
      }
    },
    {
      "cell_type": "markdown",
      "source": [
        "**Q21. What is the significance of the __del__ method in Python?**\n",
        "  --> It is a destructor method that is called when an object is deleted."
      ],
      "metadata": {
        "id": "Q8WmCRa0uttY"
      }
    },
    {
      "cell_type": "markdown",
      "source": [
        "**Q22. What is the difference between @staticmethod and @classmethod in Python?**\n",
        "  -->\n",
        "  * @staticmethod: Does not require class or instance reference.\n",
        "  \n",
        "  * @classmethod: Requires a class reference (cls)."
      ],
      "metadata": {
        "id": "_VNxis25vdP_"
      }
    },
    {
      "cell_type": "markdown",
      "source": [
        "**Q23. How does polymorphism work in Python with inheritance?**\n",
        "  --> A parent class method can be overridden in child classes to provide different implementations."
      ],
      "metadata": {
        "id": "kf04P6jBvdvu"
      }
    },
    {
      "cell_type": "markdown",
      "source": [
        "**Q24. What is method chaining in Python OOP?**\n",
        "  --> Method chaning in python is used to Calling multiple methods in a single line because each method returns the object itself."
      ],
      "metadata": {
        "id": "AuwTy8SOvvuX"
      }
    },
    {
      "cell_type": "markdown",
      "source": [
        "**Q25. What is the purpose of the __call__ method in Python?**\n",
        "  --> __Call__ method in Python is allows an object to be called like a function."
      ],
      "metadata": {
        "id": "lVckXrcMvv67"
      }
    },
    {
      "cell_type": "markdown",
      "source": [
        "**PRACTICAL QUESTIONS:**"
      ],
      "metadata": {
        "id": "KxzDNioyz2sY"
      }
    },
    {
      "cell_type": "markdown",
      "source": [
        "**Q1. Create a parent class Animal with a method speak() that prints a generic message. Create a child class Dog that overrides the speak() method to print \"Bark!\".**"
      ],
      "metadata": {
        "id": "4B-jQ1f43mCt"
      }
    },
    {
      "cell_type": "code",
      "source": [
        "#parent class\n",
        "class Animal:\n",
        "    def speak(self):\n",
        "        print(\"The animal makes a sound.\")\n",
        "#child class\n",
        "class Dog(Animal):\n",
        "    def speak(self):\n",
        "        print(\"Bark!\")\n",
        "# Create an instance of Dog and call the speak() method\n",
        "a=Animal()\n",
        "a.speak()\n",
        "dog = Dog()\n",
        "dog.speak()"
      ],
      "metadata": {
        "colab": {
          "base_uri": "https://localhost:8080/"
        },
        "id": "EmhKeOVO5m1b",
        "outputId": "ee3a03ca-9f9a-428f-cd5e-bf7f5df13511"
      },
      "execution_count": 1,
      "outputs": [
        {
          "output_type": "stream",
          "name": "stdout",
          "text": [
            "The animal makes a sound.\n",
            "Bark!\n"
          ]
        }
      ]
    },
    {
      "cell_type": "markdown",
      "source": [
        "**Q2. Write a program to create an abstract class Shape with a method area(). Derive classes Circle and Rectangle from it and implement the area() method in both.**"
      ],
      "metadata": {
        "id": "EcGl6nmp3xzs"
      }
    },
    {
      "cell_type": "code",
      "source": [
        "from abc import ABC, abstractmethod\n",
        "import math\n",
        "\n",
        "# Abstract class\n",
        "class Shape(ABC):\n",
        "    @abstractmethod\n",
        "    def area(self):\n",
        "        pass   # must be implemented by child classes\n",
        "\n",
        "# Derived class - Circle\n",
        "class Circle(Shape):\n",
        "    def __init__(self, radius):\n",
        "        self.radius = radius\n",
        "\n",
        "    def area(self):\n",
        "        return math.pi * self.radius * self.radius\n",
        "\n",
        "# Derived class - Rectangle\n",
        "class Rectangle(Shape):\n",
        "    def __init__(self, length, width):\n",
        "        self.length = length\n",
        "        self.width = width\n",
        "\n",
        "    def area(self):\n",
        "        return self.length * self.width\n",
        "\n",
        "# Creating objects\n",
        "c = Circle(5)\n",
        "r = Rectangle(4, 6)\n",
        "\n",
        "# Calling methods\n",
        "print(\"Area of Circle:\", c.area())\n",
        "print(\"Area of Rectangle:\", r.area())\n"
      ],
      "metadata": {
        "colab": {
          "base_uri": "https://localhost:8080/"
        },
        "id": "PKjR0Kku55dC",
        "outputId": "282d39cd-9d05-44ad-ec1d-251fdd6c7a44"
      },
      "execution_count": 2,
      "outputs": [
        {
          "output_type": "stream",
          "name": "stdout",
          "text": [
            "Area of Circle: 78.53981633974483\n",
            "Area of Rectangle: 24\n"
          ]
        }
      ]
    },
    {
      "cell_type": "markdown",
      "source": [
        "**Q3. Implement a multi-level inheritance scenario where a class Vehicle has an attribute type. Derive a class Car and further derive a class ElectricCar that adds a battery attribute.**"
      ],
      "metadata": {
        "id": "1W4ozJD8374s"
      }
    },
    {
      "cell_type": "code",
      "source": [
        "# Base class\n",
        "class Vehicle:\n",
        "    def __init__(self, vehicle_type):\n",
        "        self.vehicle_type = vehicle_type\n",
        "\n",
        "# Derived class (from Vehicle)\n",
        "class Car(Vehicle):\n",
        "    def __init__(self, vehicle_type, brand):\n",
        "        super().__init__(vehicle_type)   # call parent constructor\n",
        "        self.brand = brand\n",
        "\n",
        "# Further derived class (from Car)\n",
        "class ElectricCar(Car):\n",
        "    def __init__(self, vehicle_type, brand, battery_capacity):\n",
        "        super().__init__(vehicle_type, brand)  # call Car constructor\n",
        "        self.battery_capacity = battery_capacity\n",
        "\n",
        "    def display_info(self):\n",
        "        print(f\"Type: {self.vehicle_type}, Brand: {self.brand}, Battery: {self.battery_capacity} kWh\")\n",
        "\n",
        "\n",
        "# Creating object of ElectricCar\n",
        "tesla = ElectricCar(\"Four Wheeler\", \"Tesla\", 75)\n",
        "\n",
        "# Display info\n",
        "tesla.display_info()\n"
      ],
      "metadata": {
        "colab": {
          "base_uri": "https://localhost:8080/"
        },
        "id": "TBnxgmEz6I2y",
        "outputId": "4459c1ae-d5ef-4b50-a69a-9a7afb916ecc"
      },
      "execution_count": 3,
      "outputs": [
        {
          "output_type": "stream",
          "name": "stdout",
          "text": [
            "Type: Four Wheeler, Brand: Tesla, Battery: 75 kWh\n"
          ]
        }
      ]
    },
    {
      "cell_type": "markdown",
      "source": [
        "**Q4. Demonstrate polymorphism by creating a base class Bird with a method fly(). Create two derived classes Sparrow and Penguin that override the fly() method.**"
      ],
      "metadata": {
        "id": "xHAWGsZg38CF"
      }
    },
    {
      "cell_type": "code",
      "source": [
        "# Base class\n",
        "class Bird:\n",
        "    def fly(self):\n",
        "        print(\"Some birds can fly.\")\n",
        "\n",
        "# Derived class - Eagle\n",
        "class Eagle(Bird):\n",
        "    def fly(self):\n",
        "        print(\"Eagle can fly high in the sky.\")\n",
        "\n",
        "# Derived class - Penguin\n",
        "class Penguin(Bird):\n",
        "    def fly(self):\n",
        "        print(\"Penguins cannot fly, they swim instead.\")\n",
        "\n",
        "# Function that demonstrates polymorphism\n",
        "def show_flight(bird):\n",
        "    bird.fly()\n",
        "\n",
        "# Creating objects\n",
        "Eagle = Eagle()\n",
        "penguin = Penguin()\n",
        "\n",
        "# Polymorphism in action\n",
        "show_flight(Eagle)   # calls Eagle's fly()\n",
        "show_flight(penguin)   # calls Penguin's fly()\n"
      ],
      "metadata": {
        "colab": {
          "base_uri": "https://localhost:8080/"
        },
        "id": "0JGrSbvH6MvU",
        "outputId": "f3ac281e-7bf0-4f24-ed16-125814930a02"
      },
      "execution_count": 6,
      "outputs": [
        {
          "output_type": "stream",
          "name": "stdout",
          "text": [
            "Eagle can fly high in the sky.\n",
            "Penguins cannot fly, they swim instead.\n"
          ]
        }
      ]
    },
    {
      "cell_type": "markdown",
      "source": [
        "**Q5. Write a program to demonstrate encapsulation by creating a class BankAccount with private attributes balance and methods to deposit, withdraw, and check balance.**"
      ],
      "metadata": {
        "id": "Pd_C76nQ38K1"
      }
    },
    {
      "cell_type": "code",
      "source": [
        "class BankAccount:\n",
        "    def __init__(self, initial_balance=0):\n",
        "        # private attribute\n",
        "        self.__balance = initial_balance\n",
        "\n",
        "    # Method to deposit money\n",
        "    def deposit(self, amount):\n",
        "        if amount > 0:\n",
        "            self.__balance += amount\n",
        "            print(f\"Deposited: {amount}\")\n",
        "        else:\n",
        "            print(\"Invalid deposit amount.\")\n",
        "\n",
        "    # Method to withdraw money\n",
        "    def withdraw(self, amount):\n",
        "        if 0 < amount <= self.__balance:\n",
        "            self.__balance -= amount\n",
        "            print(f\"Withdrew: {amount}\")\n",
        "        else:\n",
        "            print(\"Insufficient balance or invalid amount.\")\n",
        "\n",
        "    # Method to check balance\n",
        "    def check_balance(self):\n",
        "        print(f\"Current Balance: {self.__balance}\")\n",
        "\n",
        "\n",
        "# Using the class\n",
        "account = BankAccount(10000)   # initial balance = 10000\n",
        "account.check_balance()\n",
        "\n",
        "account.deposit(5000)\n",
        "account.check_balance()\n",
        "\n",
        "account.withdraw(3000)\n",
        "account.check_balance()\n",
        "\n",
        "# Trying to access private variable directly (not recommended)\n",
        "# print(account.__balance)   # AttributeError\n"
      ],
      "metadata": {
        "colab": {
          "base_uri": "https://localhost:8080/"
        },
        "id": "Z6gjGah16Onr",
        "outputId": "ce4d62ea-c466-42f4-9805-7bf2a8f07592"
      },
      "execution_count": 7,
      "outputs": [
        {
          "output_type": "stream",
          "name": "stdout",
          "text": [
            "Current Balance: 10000\n",
            "Deposited: 5000\n",
            "Current Balance: 15000\n",
            "Withdrew: 3000\n",
            "Current Balance: 12000\n"
          ]
        }
      ]
    },
    {
      "cell_type": "markdown",
      "source": [
        "**Q6. Demonstrate runtime polymorphism using a method play() in a base class Instrument. Derive classes Guitar and Piano that implement their own version of play().**"
      ],
      "metadata": {
        "id": "4Ma9bjjg38Td"
      }
    },
    {
      "cell_type": "code",
      "source": [
        "# Base class\n",
        "class Instrument:\n",
        "    def play(self):\n",
        "        print(\"Playing an instrument.\")\n",
        "\n",
        "# Derived class - Guitar\n",
        "class Guitar(Instrument):\n",
        "    def play(self):\n",
        "        print(\"Strumming the guitar.\")\n",
        "\n",
        "# Derived class - Piano\n",
        "class Piano(Instrument):\n",
        "    def play(self):\n",
        "        print(\"Playing the piano.\")\n",
        "\n",
        "# Function to demonstrate runtime polymorphism\n",
        "def perform(instrument):\n",
        "    instrument.play()   # which play() gets called depends on object type at runtime\n",
        "\n",
        "# Creating objects\n",
        "g = Guitar()\n",
        "p = Piano()\n",
        "\n",
        "# Runtime polymorphism in action\n",
        "perform(g)   # calls Guitar's play()\n",
        "perform(p)   # calls Piano's play()\n"
      ],
      "metadata": {
        "colab": {
          "base_uri": "https://localhost:8080/"
        },
        "id": "4qoMSMXo6PYq",
        "outputId": "aab1779c-35ea-4beb-a2c0-85bf0c6fa9cd"
      },
      "execution_count": 8,
      "outputs": [
        {
          "output_type": "stream",
          "name": "stdout",
          "text": [
            "Strumming the guitar.\n",
            "Playing the piano.\n"
          ]
        }
      ]
    },
    {
      "cell_type": "markdown",
      "source": [
        "**Q7. Create a class MathOperations with a class method add_numbers() to add two numbers and a static method subtract_numbers() to subtract two numbers.**"
      ],
      "metadata": {
        "id": "o3FNv78i38bM"
      }
    },
    {
      "cell_type": "code",
      "source": [
        "class MathOperations:\n",
        "    # Class method\n",
        "    @classmethod\n",
        "    def add_numbers(cls, a, b):\n",
        "        return a + b\n",
        "\n",
        "    # Static method\n",
        "    @staticmethod\n",
        "    def subtract_numbers(a, b):\n",
        "        return a - b\n",
        "\n",
        "\n",
        "# Using the methods\n",
        "print(\"Addition:\", MathOperations.add_numbers(10, 5))\n",
        "print(\"Subtraction:\", MathOperations.subtract_numbers(10, 5))\n"
      ],
      "metadata": {
        "colab": {
          "base_uri": "https://localhost:8080/"
        },
        "id": "Vi5Mmmio6QCC",
        "outputId": "664807a6-b5a5-4525-991f-101dd6f284b7"
      },
      "execution_count": 9,
      "outputs": [
        {
          "output_type": "stream",
          "name": "stdout",
          "text": [
            "Addition: 15\n",
            "Subtraction: 5\n"
          ]
        }
      ]
    },
    {
      "cell_type": "markdown",
      "source": [
        "**Q8. Implement a class Person with a class method to count the total number of persons created.**"
      ],
      "metadata": {
        "id": "_HljUKx838jE"
      }
    },
    {
      "cell_type": "code",
      "source": [
        "class Person:\n",
        "    # Class variable\n",
        "    count = 0\n",
        "\n",
        "    def __init__(self, name):\n",
        "        self.name = name\n",
        "        # Increase count when new object is created\n",
        "        Person.count += 1\n",
        "\n",
        "    # Class method to get total persons\n",
        "    @classmethod\n",
        "    def get_count(cls):\n",
        "        return cls.count\n",
        "\n",
        "\n",
        "# Creating objects\n",
        "p1 = Person(\"Alice\")\n",
        "p2 = Person(\"Bob\")\n",
        "p3 = Person(\"Charlie\")\n",
        "\n",
        "# Using class method\n",
        "print(\"Total Persons created:\", Person.get_count())\n"
      ],
      "metadata": {
        "colab": {
          "base_uri": "https://localhost:8080/"
        },
        "id": "KpjKH2Er6RU8",
        "outputId": "9e0f3a0e-090e-4ad6-9c00-49663455945a"
      },
      "execution_count": 10,
      "outputs": [
        {
          "output_type": "stream",
          "name": "stdout",
          "text": [
            "Total Persons created: 3\n"
          ]
        }
      ]
    },
    {
      "cell_type": "markdown",
      "source": [
        "**Q9. Write a class Fraction with attributes numerator and denominator. Override the str method to display the fraction as \"numerator/denominator\".**"
      ],
      "metadata": {
        "id": "pMx73bCF38q9"
      }
    },
    {
      "cell_type": "code",
      "source": [
        "class Fraction:\n",
        "    def __init__(self, numerator, denominator):\n",
        "        self.numerator = numerator\n",
        "        self.denominator = denominator\n",
        "\n",
        "    # Override __str__ method\n",
        "    def __str__(self):\n",
        "        return f\"{self.numerator}/{self.denominator}\"\n",
        "\n",
        "\n",
        "# Creating objects\n",
        "f1 = Fraction(3, 4)\n",
        "f2 = Fraction(7, 8)\n",
        "\n",
        "# Printing objects\n",
        "print(f1)   # Output: 3/4\n",
        "print(f2)   # Output: 7/8\n"
      ],
      "metadata": {
        "colab": {
          "base_uri": "https://localhost:8080/"
        },
        "id": "n0WFjD1k6R0y",
        "outputId": "6950835d-6030-4347-fdbd-8ea855763815"
      },
      "execution_count": 11,
      "outputs": [
        {
          "output_type": "stream",
          "name": "stdout",
          "text": [
            "3/4\n",
            "7/8\n"
          ]
        }
      ]
    },
    {
      "cell_type": "markdown",
      "source": [
        "**Q10. Demonstrate operator overloading by creating a class Vector and overriding the add method to add two vectors.**"
      ],
      "metadata": {
        "id": "5zpvUFba38zH"
      }
    },
    {
      "cell_type": "code",
      "source": [
        "class Vector:\n",
        "    def __init__(self, x, y):\n",
        "        self.x = x\n",
        "        self.y = y\n",
        "\n",
        "    # Overloading the + operator\n",
        "    def __add__(self, other):\n",
        "        return Vector(self.x + other.x, self.y + other.y)\n",
        "\n",
        "    # Override __str__ for easy printing\n",
        "    def __str__(self):\n",
        "        return f\"({self.x}, {self.y})\"\n",
        "\n",
        "\n",
        "# Creating vectors\n",
        "v1 = Vector(2, 3)\n",
        "v2 = Vector(4, 5)\n",
        "\n",
        "# Adding vectors using + operator\n",
        "v3 = v1 + v2\n",
        "\n",
        "# Display result\n",
        "print(\"v1 + v2 =\", v3)\n"
      ],
      "metadata": {
        "colab": {
          "base_uri": "https://localhost:8080/"
        },
        "id": "-N6a3YNx6SGs",
        "outputId": "b36ff090-6b4f-4c9d-f765-29965a5c0d68"
      },
      "execution_count": 12,
      "outputs": [
        {
          "output_type": "stream",
          "name": "stdout",
          "text": [
            "v1 + v2 = (6, 8)\n"
          ]
        }
      ]
    },
    {
      "cell_type": "markdown",
      "source": [
        "**Q11. Create a class Person with attributes name and age. Add a method greet() that prints \"Hello, my name is {name} and I am {age} years old.\"**"
      ],
      "metadata": {
        "id": "9uWfjzYY387E"
      }
    },
    {
      "cell_type": "code",
      "source": [
        "class Person:\n",
        "    def __init__(self, name, age):\n",
        "        self.name = name\n",
        "        self.age = age\n",
        "\n",
        "    # Method to greet\n",
        "    def greet(self):\n",
        "        print(f\"Radhe Radhe, my name is {self.name} and I am {self.age} years old.\")\n",
        "\n",
        "\n",
        "# Creating objects\n",
        "p1 = Person(\"Madhav\", 3)\n",
        "p2 = Person(\"Madhavi\", 2)\n",
        "\n",
        "# Calling greet method\n",
        "p1.greet()\n",
        "p2.greet()\n"
      ],
      "metadata": {
        "colab": {
          "base_uri": "https://localhost:8080/"
        },
        "id": "5pXR4dJL6TL7",
        "outputId": "7738613b-c04d-4972-8729-840a6197f00c"
      },
      "execution_count": 18,
      "outputs": [
        {
          "output_type": "stream",
          "name": "stdout",
          "text": [
            "Radhe Radhe, my name is Madhav and I am 3 years old.\n",
            "Radhe Radhe, my name is Madhavi and I am 2 years old.\n"
          ]
        }
      ]
    },
    {
      "cell_type": "markdown",
      "source": [
        "**Q12. Implement a class Student with attributes name and grades. Create a method average_grade() to compute the average of the grades.**"
      ],
      "metadata": {
        "id": "WTofe2up39Dm"
      }
    },
    {
      "cell_type": "code",
      "source": [
        "class Student:\n",
        "    def __init__(self, name, grades):\n",
        "        self.name = name\n",
        "        self.grades = grades  # list of numbers\n",
        "\n",
        "    # Method to compute average grade\n",
        "    def average_grade(self):\n",
        "        if len(self.grades) == 0:\n",
        "            return 0\n",
        "        return sum(self.grades) / len(self.grades)\n",
        "\n",
        "\n",
        "# Creating objects\n",
        "s1 = Student(\"Shagun\", [85, 90, 78])\n",
        "s2 = Student(\"Hardik\", [70, 80, 75, 90])\n",
        "\n",
        "# Calling average_grade method\n",
        "print(f\"{s1.name} average grade: {s1.average_grade()}\")\n",
        "print(f\"{s2.name} average grade: {s2.average_grade()}\")\n"
      ],
      "metadata": {
        "colab": {
          "base_uri": "https://localhost:8080/"
        },
        "id": "GBR8658b6T07",
        "outputId": "af9791ff-4d97-449b-aca2-6327ce61cc53"
      },
      "execution_count": 19,
      "outputs": [
        {
          "output_type": "stream",
          "name": "stdout",
          "text": [
            "Shagun average grade: 84.33333333333333\n",
            "Hardik average grade: 78.75\n"
          ]
        }
      ]
    },
    {
      "cell_type": "markdown",
      "source": [
        "**Q13. Create a class Rectangle with methods set_dimensions() to set the dimensions and area() to calculate the area.**"
      ],
      "metadata": {
        "id": "GTIodKJK39MG"
      }
    },
    {
      "cell_type": "code",
      "source": [
        "class Rectangle:\n",
        "    def __init__(self):\n",
        "        self.length = 0\n",
        "        self.width = 0\n",
        "\n",
        "    # Method to set dimensions\n",
        "    def set_dimensions(self, length, width):\n",
        "        self.length = length\n",
        "        self.width = width\n",
        "\n",
        "    # Method to calculate area\n",
        "    def area(self):\n",
        "        return self.length * self.width\n",
        "\n",
        "\n",
        "# Creating object\n",
        "rect = Rectangle()\n",
        "\n",
        "# Setting dimensions\n",
        "rect.set_dimensions(5, 5)\n",
        "\n",
        "# Calculating area\n",
        "print(\"Area of rectangle:\", rect.area())\n"
      ],
      "metadata": {
        "colab": {
          "base_uri": "https://localhost:8080/"
        },
        "id": "ulXoI-rl6UZM",
        "outputId": "7b8538f2-c43b-4128-9803-a843719f66ec"
      },
      "execution_count": 21,
      "outputs": [
        {
          "output_type": "stream",
          "name": "stdout",
          "text": [
            "Area of rectangle: 25\n"
          ]
        }
      ]
    },
    {
      "cell_type": "markdown",
      "source": [
        "**Q14. Create a class Employee with a method calculate_salary() that computes the salary based on hours worked and hourly rate. Create a derived class Manager that adds a bonus to the salary.**"
      ],
      "metadata": {
        "id": "IuUrCvMS39Td"
      }
    },
    {
      "cell_type": "code",
      "source": [
        "# Base class\n",
        "class Employee:\n",
        "    def __init__(self, name, hours_worked, hourly_rate):\n",
        "        self.name = name\n",
        "        self.hours_worked = hours_worked\n",
        "        self.hourly_rate = hourly_rate\n",
        "\n",
        "    # Method to calculate salary\n",
        "    def calculate_salary(self):\n",
        "        return self.hours_worked * self.hourly_rate\n",
        "\n",
        "\n",
        "# Derived class\n",
        "class Manager(Employee):\n",
        "    def __init__(self, name, hours_worked, hourly_rate, bonus):\n",
        "        super().__init__(name, hours_worked, hourly_rate)\n",
        "        self.bonus = bonus\n",
        "\n",
        "    # Overriding method to include bonus\n",
        "    def calculate_salary(self):\n",
        "        base_salary = super().calculate_salary()\n",
        "        return base_salary + self.bonus\n",
        "\n",
        "\n",
        "# Creating objects\n",
        "emp = Employee(\"Shagun\", 180, 120)\n",
        "mgr = Manager(\"Hardik\", 25, 75, 100)\n",
        "\n",
        "# Calculating salaries\n",
        "print(f\"{emp.name} Salary: {emp.calculate_salary()}\")\n",
        "print(f\"{mgr.name} Salary: {mgr.calculate_salary()}\")\n"
      ],
      "metadata": {
        "colab": {
          "base_uri": "https://localhost:8080/"
        },
        "id": "O21kS9To6U7S",
        "outputId": "fa49b9f4-93e8-4477-bdbf-dbb1b417e3c3"
      },
      "execution_count": 24,
      "outputs": [
        {
          "output_type": "stream",
          "name": "stdout",
          "text": [
            "Shagun Salary: 21600\n",
            "Hardik Salary: 1975\n"
          ]
        }
      ]
    },
    {
      "cell_type": "markdown",
      "source": [
        "**Q15. Create a class Product with attributes name, price, and quantity. Implement a method total_price() that calculates the total price of the product.**"
      ],
      "metadata": {
        "id": "3QN_UYVa39bN"
      }
    },
    {
      "cell_type": "code",
      "source": [
        "class Product:\n",
        "    def __init__(self, name, price, quantity):\n",
        "        self.name = name\n",
        "        self.price = price\n",
        "        self.quantity = quantity\n",
        "\n",
        "    # Method to calculate total price\n",
        "    def total_price(self):\n",
        "        return self.price * self.quantity\n",
        "\n",
        "\n",
        "# Creating objects\n",
        "p1 = Product(\"Laptop\", 5000, 1)\n",
        "p2 = Product(\"Phone\", 1300, 3)\n",
        "\n",
        "# Calculating total prices\n",
        "print(f\"{p1.name} total price: {p1.total_price()}\")\n",
        "print(f\"{p2.name} total price: {p2.total_price()}\")\n"
      ],
      "metadata": {
        "colab": {
          "base_uri": "https://localhost:8080/"
        },
        "id": "ZK6qIIi76Vbk",
        "outputId": "a19b29d7-1470-4571-f227-527eb296a586"
      },
      "execution_count": 26,
      "outputs": [
        {
          "output_type": "stream",
          "name": "stdout",
          "text": [
            "Laptop total price: 5000\n",
            "Phone total price: 3900\n"
          ]
        }
      ]
    },
    {
      "cell_type": "markdown",
      "source": [
        "**Q16. Create a class Animal with an abstract method sound(). Create two derived classes Cow and Sheep that implement the sound() method.**"
      ],
      "metadata": {
        "id": "jCJ2yEXG39ik"
      }
    },
    {
      "cell_type": "code",
      "source": [
        "from abc import ABC, abstractmethod\n",
        "\n",
        "# Abstract class\n",
        "class Animal(ABC):\n",
        "    @abstractmethod\n",
        "    def sound(self):\n",
        "        pass\n",
        "\n",
        "# Derived class - Dog\n",
        "class Dog(Animal):\n",
        "    def sound(self):\n",
        "        print(\"Dog says Bhav Bhav\")\n",
        "\n",
        "# Derived class - Cat\n",
        "class Cat(Animal):\n",
        "    def sound(self):\n",
        "        print(\"Cat says Meo Meo\")\n",
        "\n",
        "# Creating objects\n",
        "Dog = Dog()\n",
        "Cat = Cat()\n",
        "\n",
        "# Calling sound() method\n",
        "Dog.sound()\n",
        "Cat.sound()\n"
      ],
      "metadata": {
        "colab": {
          "base_uri": "https://localhost:8080/"
        },
        "id": "gz_iiGIJ6V2S",
        "outputId": "ff8f6efb-4dc9-44dd-896d-b920ca3ee41b"
      },
      "execution_count": 29,
      "outputs": [
        {
          "output_type": "stream",
          "name": "stdout",
          "text": [
            "Dog says Bhav Bhav\n",
            "Cat says Meo Meo\n"
          ]
        }
      ]
    },
    {
      "cell_type": "markdown",
      "source": [
        "**Q17. Create a class Book with attributes title, author, and year_published. Add a method get_book_info() that returns a formatted string with the book's details.**"
      ],
      "metadata": {
        "id": "_2zk7BES39s3"
      }
    },
    {
      "cell_type": "code",
      "source": [
        "class Book:\n",
        "    def __init__(self, title, author, year_published):\n",
        "        self.title = title\n",
        "        self.author = author\n",
        "        self.year_published = year_published\n",
        "\n",
        "    # Method to return book info\n",
        "    def get_book_info(self):\n",
        "        return f\"Title: {self.title}, Author: {self.author}, Year Published: {self.year_published}\"\n",
        "\n",
        "\n",
        "# Creating objects\n",
        "book1 = Book(\"1984\", \"George Orwell\", 1949)\n",
        "book2 = Book(\"To Kill a Mockingbird\", \"Harper Lee\", 1960)\n",
        "\n",
        "# Getting book info\n",
        "print(book1.get_book_info())\n",
        "print(book2.get_book_info())\n"
      ],
      "metadata": {
        "colab": {
          "base_uri": "https://localhost:8080/"
        },
        "id": "J6tH_xqA6Wpz",
        "outputId": "419b7f1c-27f6-48ff-bb1c-61863a01cb57"
      },
      "execution_count": 30,
      "outputs": [
        {
          "output_type": "stream",
          "name": "stdout",
          "text": [
            "Title: 1984, Author: George Orwell, Year Published: 1949\n",
            "Title: To Kill a Mockingbird, Author: Harper Lee, Year Published: 1960\n"
          ]
        }
      ]
    },
    {
      "cell_type": "markdown",
      "source": [
        "**Q18. Create a class House with attributes address and price. Create a derived class Mansion that adds an attribute number_of_rooms.**"
      ],
      "metadata": {
        "id": "PlElCGdT39zH"
      }
    },
    {
      "cell_type": "code",
      "source": [
        "# Base class\n",
        "class House:\n",
        "    def __init__(self, address, price):\n",
        "        self.address = address\n",
        "        self.price = price\n",
        "\n",
        "# Derived class\n",
        "class Mansion(House):\n",
        "    def __init__(self, address, price, number_of_rooms):\n",
        "        super().__init__(address, price)  # call base class constructor\n",
        "        self.number_of_rooms = number_of_rooms\n",
        "\n",
        "    # Method to display info\n",
        "    def display_info(self):\n",
        "        print(f\"Address: {self.address}, Price: {self.price}, Rooms: {self.number_of_rooms}\")\n",
        "\n",
        "\n",
        "# Creating objects\n",
        "h1 = House(\"101 Bandra Mumbai\", 200000)\n",
        "m1 = Mansion(\"0001 Mannat\", 1000000, 10)\n",
        "\n",
        "# Displaying info\n",
        "print(f\"House: Address: {h1.address}, Price: {h1.price}\")\n",
        "m1.display_info()\n"
      ],
      "metadata": {
        "colab": {
          "base_uri": "https://localhost:8080/"
        },
        "id": "gmNOJLuD6X0S",
        "outputId": "6b67b975-a502-4b2d-ab0b-3657fc1f1e00"
      },
      "execution_count": 33,
      "outputs": [
        {
          "output_type": "stream",
          "name": "stdout",
          "text": [
            "House: Address: 101 Bandra Mumbai, Price: 200000\n",
            "Address: 0001 Mannat, Price: 1000000, Rooms: 10\n"
          ]
        }
      ]
    }
  ]
}